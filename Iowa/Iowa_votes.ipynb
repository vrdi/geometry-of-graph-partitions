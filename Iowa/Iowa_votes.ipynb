{
 "cells": [
  {
   "cell_type": "markdown",
   "metadata": {},
   "source": [
    "### 1 - Creating initial partitions to load saved ensembles created from GerryChain"
   ]
  },
  {
   "cell_type": "code",
   "execution_count": null,
   "metadata": {},
   "outputs": [],
   "source": [
    "%config InlineBackend.figure_formats = ['svg']\n",
    "import yaml\n",
    "import json\n",
    "import matplotlib.pyplot as plt; plt.style.use('ggplot')\n",
    "import save_data as sd\n",
    "from sklearn.manifold import MDS\n",
    "from iowa import *\n",
    "\n",
    "with open('settings.yaml', 'r') as stream:\n",
    "    settings = yaml.load(stream)\n",
    "\n",
    "graph = Graph.from_file(settings['data_path_shp'], reproject=False)\n",
    "\n",
    "partitions = MC_sample(graph, settings, save_part=False)"
   ]
  },
  {
   "cell_type": "markdown",
   "metadata": {},
   "source": [
    "### 2 - load saved partitions "
   ]
  },
  {
   "cell_type": "markdown",
   "metadata": {},
   "source": [
    "### 2.1 - flip run of 25000 steps on Iowa, where we take every 100th step to get 250 total plans"
   ]
  },
  {
   "cell_type": "code",
   "execution_count": null,
   "metadata": {},
   "outputs": [],
   "source": [
    "flip_data = sd.load_run('./Data/flip_iowa_25000_100_version2.json', partitions[0])"
   ]
  },
  {
   "cell_type": "code",
   "execution_count": null,
   "metadata": {},
   "outputs": [],
   "source": [
    "election_names = [\"PRES00\",\"PRES04\",\"PRES08\",\"PRES12\"]\n",
    "seats_rep_flip=[]\n",
    "seats_dem_flip=[]\n",
    "MMs_flip=[]\n",
    "EGs_flip=[]\n",
    "\n",
    "for part in flip_data:\n",
    "    MMs_flip.append([])\n",
    "    EGs_flip.append([])\n",
    "    seats_rep_flip.append([])\n",
    "    seats_dem_flip.append([])\n",
    "    \n",
    "    for num_elections in range(4):\n",
    "        MMs_flip[-1].append(mean_median(part[election_names[num_elections]])) # storing mean median gaps\n",
    "        EGs_flip[-1].append(efficiency_gap(part[election_names[num_elections]])) # storing efficiency gaps\n",
    "        seats_rep_flip[-1].append(part[election_names[num_elections]].wins(\"Republican\")) # storing Repulican seats\n",
    "        seats_dem_flip[-1].append(part[election_names[num_elections]].wins(\"Democratic\")) # storing Democratic seats"
   ]
  },
  {
   "cell_type": "markdown",
   "metadata": {},
   "source": [
    "### 2.2 - recom run of 25000 steps on Iowa, where we take every 100th step to get 250 total plans"
   ]
  },
  {
   "cell_type": "code",
   "execution_count": null,
   "metadata": {},
   "outputs": [],
   "source": [
    "recom_data = sd.load_run('./Data/recom_iowa_25000_100_version2.json',partitions[0])"
   ]
  },
  {
   "cell_type": "code",
   "execution_count": null,
   "metadata": {},
   "outputs": [],
   "source": [
    "election_names = [\"PRES00\",\"PRES04\",\"PRES08\",\"PRES12\"]\n",
    "seats_rep_recom=[]\n",
    "seats_dem_recom=[]\n",
    "MMs_recom=[]\n",
    "EGs_recom=[]\n",
    "\n",
    "for part in recom_data:\n",
    "    MMs_recom.append([])\n",
    "    EGs_recom.append([])\n",
    "    seats_rep_recom.append([])\n",
    "    seats_dem_recom.append([])\n",
    "    \n",
    "    for num_elections in range(4):\n",
    "        MMs_recom[-1].append(mean_median(part[election_names[num_elections]]))\n",
    "        EGs_recom[-1].append(efficiency_gap(part[election_names[num_elections]]))\n",
    "        seats_rep_recom[-1].append(part[election_names[num_elections]].wins(\"Republican\"))\n",
    "        seats_dem_recom[-1].append(part[election_names[num_elections]].wins(\"Democratic\"))"
   ]
  },
  {
   "cell_type": "markdown",
   "metadata": {},
   "source": [
    "### 3 - Load saved pairwise distance matrices for partitions in part 2"
   ]
  },
  {
   "cell_type": "code",
   "execution_count": null,
   "metadata": {},
   "outputs": [],
   "source": [
    "Distance_matrix_flip=np.load(\"./Data/flip_distance_matrix_version2.npy\") # flip\n",
    "Distance_matrix_recom=np.load(\"./Data/recom_distance_matrix_version2.npy\") # recom\n",
    "flip_recom_combined_250_each = np.load(\"./Data/flip_recom_combined_run2_250_each.npy\") # flip and recom combined"
   ]
  },
  {
   "cell_type": "markdown",
   "metadata": {},
   "source": [
    "### 4 - creating plots that we think are interesting "
   ]
  },
  {
   "cell_type": "markdown",
   "metadata": {},
   "source": [
    "### 4.1 - Comparison of flip and recom"
   ]
  },
  {
   "cell_type": "code",
   "execution_count": null,
   "metadata": {},
   "outputs": [],
   "source": [
    "mds = MDS(n_components=2, metric=True, n_init=4, max_iter=300, verbose=0, eps=0.001, n_jobs=None, random_state=None, dissimilarity='precomputed')\n",
    "\n",
    "pos2=mds.fit(flip_recom_combined_250_each).embedding_\n",
    "\n",
    "X_MDS_combined=[]\n",
    "Y_MDS_combined=[]\n",
    "for i in range(500):\n",
    "    X_MDS_combined.append(pos2[i][0])\n",
    "    Y_MDS_combined.append(pos2[i][1])"
   ]
  },
  {
   "cell_type": "code",
   "execution_count": null,
   "metadata": {},
   "outputs": [],
   "source": [
    "fig=plt.figure(figsize=(8,6))\n",
    "plt.scatter(X_MDS_combined[0:250],Y_MDS_combined[0:250],color=['black'])\n",
    "plt.scatter(X_MDS_combined[250:500],Y_MDS_combined[250:500],color=['green'])\n",
    "plt.legend(('Flip', 'Recom'), loc='upper left')\n",
    "fig.savefig('flip_and_recom.png',dpi=300, bbox_inches='tight')"
   ]
  },
  {
   "cell_type": "markdown",
   "metadata": {},
   "source": [
    "### 4.2 - Recom"
   ]
  },
  {
   "cell_type": "code",
   "execution_count": null,
   "metadata": {},
   "outputs": [],
   "source": [
    "mds = MDS(n_components=2, metric=True, n_init=4, max_iter=300, verbose=0, eps=0.001, n_jobs=None, random_state=None, dissimilarity='precomputed')\n",
    "\n",
    "pos2=mds.fit(Distance_matrix_recom).embedding_\n",
    "\n",
    "\n",
    "\n",
    "\n",
    "X_MDS_iowa_recom=[]\n",
    "Y_MDS_iowa_recom=[]\n",
    "for i in range(250):\n",
    "    X_MDS_iowa_recom.append(pos2[i][0])\n",
    "    Y_MDS_iowa_recom.append(pos2[i][1])"
   ]
  },
  {
   "cell_type": "markdown",
   "metadata": {},
   "source": [
    "### 4.2.1 - MDS visualization for Iowa state, colored by Democratic seats (election 2000) (recom 25000 steps interval 100"
   ]
  },
  {
   "cell_type": "code",
   "execution_count": null,
   "metadata": {},
   "outputs": [],
   "source": [
    "dem_seats_pres00_recom=[]\n",
    "\n",
    "for i in range(250):\n",
    "    dem_seats_pres00_recom.append(seats_dem_recom[i][0])\n",
    "    \n",
    "fig=plt.figure(figsize=(8,6))\n",
    "plt.scatter(X_MDS_iowa_recom,Y_MDS_iowa_recom,c=dem_seats_pres00_recom,cmap=\"RdBu\")\n",
    "\n",
    "plt.colorbar().set_label('Number of Democratic Seats')\n",
    "\n",
    "fig.savefig('dem_seats_2000.png',dpi=300, bbox_inches='tight')\n"
   ]
  },
  {
   "cell_type": "markdown",
   "metadata": {},
   "source": [
    "### 4.2.2 -  MDS visualization for Iowa state, colored by Democratic seats (election 2004) (recom 25000 steps interval 100)"
   ]
  },
  {
   "cell_type": "code",
   "execution_count": null,
   "metadata": {},
   "outputs": [],
   "source": [
    "dem_seats_pres04_recom=[]\n",
    "\n",
    "for i in range(250):\n",
    "    dem_seats_pres04_recom.append(seats_dem_recom[i][1])\n",
    "    \n",
    "fig=plt.figure(figsize=(8,6))\n",
    "plt.scatter(X_MDS_iowa_recom,Y_MDS_iowa_recom,c=dem_seats_pres04_recom,cmap=\"RdBu\")\n",
    "\n",
    "\n",
    "plt.colorbar().set_label('Number of Democratic Seats')\n",
    "\n",
    "fig.savefig('dem_seats_2004.png',dpi=300, bbox_inches='tight')"
   ]
  },
  {
   "cell_type": "markdown",
   "metadata": {},
   "source": [
    "### 4.2.3 - MDS visualization for Iowa state, colored by Democratic seats (election 2008) (recom 25000 steps interval 100)"
   ]
  },
  {
   "cell_type": "code",
   "execution_count": null,
   "metadata": {},
   "outputs": [],
   "source": [
    "dem_seats_pres08_recom=[]\n",
    "\n",
    "for i in range(250):\n",
    "    dem_seats_pres08_recom.append(seats_dem_recom[i][2])\n",
    "    \n",
    "fig=plt.figure(figsize=(8,6))\n",
    "plt.scatter(X_MDS_iowa_recom,Y_MDS_iowa_recom,c=dem_seats_pres08_recom,cmap=\"RdBu\")\n",
    "\n",
    "\n",
    "plt.colorbar().set_label('Number of Democratic Seats')\n",
    "\n",
    "fig.savefig('dem_seats_2008.png',dpi=300, bbox_inches='tight')"
   ]
  },
  {
   "cell_type": "markdown",
   "metadata": {},
   "source": [
    "### 4.2.4 - MDS visualization for Iowa state, colored by Democratic seats (election 2012) (recom 25000 steps interval 100)"
   ]
  },
  {
   "cell_type": "code",
   "execution_count": null,
   "metadata": {},
   "outputs": [],
   "source": [
    "dem_seats_pres12_recom=[]\n",
    "\n",
    "for i in range(250):\n",
    "    dem_seats_pres12_recom.append(seats_dem_recom[i][3])\n",
    "    \n",
    "fig=plt.figure(figsize=(8,6))\n",
    "plt.scatter(X_MDS_iowa_recom,Y_MDS_iowa_recom,c=dem_seats_pres12_recom,cmap=\"RdBu\")\n",
    "\n",
    "\n",
    "plt.colorbar().set_label('Number of Democratic Seats')\n",
    "\n",
    "fig.savefig('dem_seats_2012.png',dpi=300, bbox_inches='tight')"
   ]
  },
  {
   "cell_type": "code",
   "execution_count": null,
   "metadata": {},
   "outputs": [],
   "source": []
  },
  {
   "cell_type": "code",
   "execution_count": null,
   "metadata": {},
   "outputs": [],
   "source": []
  }
 ],
 "metadata": {
  "kernelspec": {
   "display_name": "Python 3",
   "language": "python",
   "name": "python3"
  },
  "language_info": {
   "codemirror_mode": {
    "name": "ipython",
    "version": 3
   },
   "file_extension": ".py",
   "mimetype": "text/x-python",
   "name": "python",
   "nbconvert_exporter": "python",
   "pygments_lexer": "ipython3",
   "version": "3.7.3"
  }
 },
 "nbformat": 4,
 "nbformat_minor": 2
}
